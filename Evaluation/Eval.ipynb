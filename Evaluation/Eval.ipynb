{
 "cells": [
  {
   "cell_type": "markdown",
   "id": "d95a69dc",
   "metadata": {},
   "source": [
    "# Evaluation\n",
    "---"
   ]
  },
  {
   "cell_type": "markdown",
   "id": "0ac241f1",
   "metadata": {},
   "source": [
    "### Exercice 1\n",
    "---"
   ]
  },
  {
   "cell_type": "markdown",
   "id": "3ecf37c8",
   "metadata": {},
   "source": [
    "1 - "
   ]
  },
  {
   "cell_type": "code",
   "execution_count": null,
   "id": "9b02e7f5",
   "metadata": {},
   "outputs": [
    {
     "data": {
      "text/plain": [
       "'qaaaqa'"
      ]
     },
     "execution_count": 18,
     "metadata": {},
     "output_type": "execute_result"
    }
   ],
   "source": [
    "def echange(string : str) -> str:\n",
    "    if type(string) == str:\n",
    "        split = []\n",
    "        str2 = \"\"\n",
    "        \n",
    "        for i in range(len(string)):\n",
    "            if string[i] == \"a\":\n",
    "                split.append(\"q\")\n",
    "            elif string[i] == \"q\":\n",
    "                split.append(\"a\")\n",
    "            else:\n",
    "                split.append(string[i])\n",
    "                \n",
    "        for i in range(len(split)):\n",
    "            str2 += split[i]\n",
    "            \n",
    "        return str2\n",
    "    else:\n",
    "        raise TypeError(\"Le paramètre doit être une chaîne de caractères.\")\n",
    "\n",
    "echange(\"aqqqaq\")"
   ]
  },
  {
   "cell_type": "markdown",
   "id": "8f55c8f5",
   "metadata": {},
   "source": [
    "2 -"
   ]
  },
  {
   "cell_type": "code",
   "execution_count": null,
   "id": "dbea4efa",
   "metadata": {},
   "outputs": [
    {
     "data": {
      "text/plain": [
       "'ae bonjour ae salut'"
      ]
     },
     "execution_count": 17,
     "metadata": {},
     "output_type": "execute_result"
    }
   ],
   "source": [
    "def corrige_dys(string : str) -> str:\n",
    "    if type(string) == str:\n",
    "        split = []\n",
    "        str2 = \"\"\n",
    "        \n",
    "        for i in range(len(string)):\n",
    "            split.append(string[i])\n",
    "        \n",
    "        for i in range(len(split) - 1):\n",
    "            if split[i] == \"e\" and split[i + 1] == \"a\":\n",
    "                split[i], split[i + 1] = \"a\", \"e\"\n",
    "            # elif split[i] == \"a\" and split[i + 1] == \"e\":\n",
    "            #     split[i], split[i + 1] = \"e\", \"a\"\n",
    "        \n",
    "        for i in range(len(split)):\n",
    "            str2 += split[i]\n",
    "            \n",
    "        return str2\n",
    "    else:\n",
    "        raise TypeError(\"Le paramètre doit être une chaîne de caractères.\")\n",
    "\n",
    "corrige_dys(\"ea bonjour ea salut\")"
   ]
  },
  {
   "cell_type": "markdown",
   "id": "aa48fbb1",
   "metadata": {},
   "source": [
    "3 - "
   ]
  },
  {
   "cell_type": "code",
   "execution_count": null,
   "id": "fee27e8d",
   "metadata": {},
   "outputs": [
    {
     "data": {
      "text/plain": [
       "'aabbccddeeffgghh'"
      ]
     },
     "execution_count": 16,
     "metadata": {},
     "output_type": "execute_result"
    }
   ],
   "source": [
    "def corrige_rep(string : str) -> str:\n",
    "    if type(string) == str:\n",
    "        split = []\n",
    "        str2 = \"\"\n",
    "        caracter = \"\"\n",
    "        cpt = 0\n",
    "        \n",
    "        for i in range(len(string)):\n",
    "            split.append(string[i])\n",
    "        \n",
    "        for i in range(len(split)):\n",
    "            if split[i] != caracter :\n",
    "                caracter = split[i]\n",
    "                str2 += caracter\n",
    "                cpt = 0\n",
    "            elif split[i] == caracter and cpt < 1:\n",
    "                str2 += caracter\n",
    "                cpt += 1\n",
    "            \n",
    "        return str2\n",
    "    else:\n",
    "        raise TypeError(\"Le paramètre doit être une chaîne de caractères, pas un type 'string'.\")\n",
    "\n",
    "corrige_rep(\"aaabbbccddeeffgggghh\")"
   ]
  },
  {
   "cell_type": "markdown",
   "id": "4978ee03",
   "metadata": {},
   "source": [
    "### Exercice 2\n",
    "---"
   ]
  },
  {
   "cell_type": "markdown",
   "id": "5e945819",
   "metadata": {},
   "source": [
    "1 -"
   ]
  },
  {
   "cell_type": "code",
   "execution_count": 31,
   "id": "b2410f83",
   "metadata": {},
   "outputs": [],
   "source": [
    "def f(x: int) -> int:\n",
    "    if type(x) == int:\n",
    "        if x > 35 and x % 2 == 0:\n",
    "            return x**2 - (35 * x) + 1\n",
    "        elif x <= 11 and x % 2 == 1:\n",
    "            return -(x**2) + (3 * x) - 2\n",
    "        else:\n",
    "            return x**3 - x**2 + x - 1\n",
    "    else:\n",
    "        raise TypeError(\"Le paramètre doit être un entier.\")"
   ]
  },
  {
   "cell_type": "markdown",
   "id": "216749ed",
   "metadata": {},
   "source": [
    "2 - "
   ]
  },
  {
   "cell_type": "code",
   "execution_count": null,
   "id": "f91edf47",
   "metadata": {},
   "outputs": [],
   "source": [
    "input1 = input(\"Veuillez entrer un entier : \")\n",
    "if input1.isdigit():\n",
    "    result = f(int(input1))\n",
    "    print(f\"Le résultat de f({input1}) est : {result}\")\n",
    "else:\n",
    "    print(\"Veuillez entrer un entier valide.\")"
   ]
  },
  {
   "cell_type": "markdown",
   "id": "62fc0438",
   "metadata": {},
   "source": [
    "3 -"
   ]
  },
  {
   "cell_type": "code",
   "execution_count": 40,
   "id": "eb8decf6",
   "metadata": {},
   "outputs": [
    {
     "name": "stdout",
     "output_type": "stream",
     "text": [
      "10\n",
      "909\n",
      "750264056\n",
      "562896127466329177\n",
      "178354792102974936627415136553972975870758678985100080\n",
      "31810431866095410817395453928891057227903375194246980272059055771404972941204401619498416210856883137503601\n"
     ]
    },
    {
     "ename": "TypeError",
     "evalue": "Le paramètre doit être un entier.",
     "output_type": "error",
     "traceback": [
      "\u001b[31m---------------------------------------------------------------------------\u001b[39m",
      "\u001b[31mTypeError\u001b[39m                                 Traceback (most recent call last)",
      "\u001b[36mCell\u001b[39m\u001b[36m \u001b[39m\u001b[32mIn[40]\u001b[39m\u001b[32m, line 16\u001b[39m\n\u001b[32m     14\u001b[39m \u001b[38;5;28mprint\u001b[39m(U(\u001b[32m4\u001b[39m)) \u001b[38;5;66;03m# 178354792102974936627415136553972975870758678985100080\u001b[39;00m\n\u001b[32m     15\u001b[39m \u001b[38;5;28mprint\u001b[39m(U(\u001b[32m5\u001b[39m)) \u001b[38;5;66;03m# 31810431866095410817395453928891057227903375194246980272059055771404972941204401619498416210856883137503601\u001b[39;00m\n\u001b[32m---> \u001b[39m\u001b[32m16\u001b[39m \u001b[38;5;28mprint\u001b[39m(\u001b[43mU\u001b[49m\u001b[43m(\u001b[49m\u001b[33;43m\"\u001b[39;49m\u001b[33;43mUn(5)\u001b[39;49m\u001b[33;43m\"\u001b[39;49m\u001b[43m)\u001b[49m) \u001b[38;5;66;03m# TypeError: Le paramètre doit être un entier.\u001b[39;00m\n",
      "\u001b[36mCell\u001b[39m\u001b[36m \u001b[39m\u001b[32mIn[40]\u001b[39m\u001b[32m, line 8\u001b[39m, in \u001b[36mU\u001b[39m\u001b[34m(n)\u001b[39m\n\u001b[32m      6\u001b[39m         \u001b[38;5;28;01mreturn\u001b[39;00m f(U(n - \u001b[32m1\u001b[39m))\n\u001b[32m      7\u001b[39m \u001b[38;5;28;01melse\u001b[39;00m:\n\u001b[32m----> \u001b[39m\u001b[32m8\u001b[39m     \u001b[38;5;28;01mraise\u001b[39;00m \u001b[38;5;167;01mTypeError\u001b[39;00m(\u001b[33m\"\u001b[39m\u001b[33mLe paramètre doit être un entier.\u001b[39m\u001b[33m\"\u001b[39m)\n",
      "\u001b[31mTypeError\u001b[39m: Le paramètre doit être un entier."
     ]
    }
   ],
   "source": [
    "def U(n: int):\n",
    "    if type(n) == int and n >= 0:\n",
    "        if n == 0:\n",
    "            return 10\n",
    "        else:\n",
    "            return f(U(n - 1))\n",
    "    else:\n",
    "        raise TypeError(\"Le paramètre doit être un entier.\")\n",
    "    \n",
    "print(U(0)) # 10\n",
    "print(U(1)) # 909\n",
    "print(U(2)) # 750264056\n",
    "print(U(3)) # 562896127466329177\n",
    "print(U(4)) # 178354792102974936627415136553972975870758678985100080\n",
    "print(U(5)) # 31810431866095410817395453928891057227903375194246980272059055771404972941204401619498416210856883137503601\n",
    "print(U(\"Un(5)\")) # TypeError: Le paramètre doit être un entier."
   ]
  },
  {
   "cell_type": "markdown",
   "id": "9e0fec25",
   "metadata": {},
   "source": [
    "4 - "
   ]
  },
  {
   "cell_type": "code",
   "execution_count": 55,
   "id": "38e5e382",
   "metadata": {},
   "outputs": [
    {
     "name": "stdout",
     "output_type": "stream",
     "text": [
      "0\n",
      "1\n",
      "2\n",
      "3\n",
      "4\n",
      "5\n"
     ]
    }
   ],
   "source": [
    "def indice_max(n: int) -> int:\n",
    "    if type(n) == int and n >= 0:\n",
    "        tab = []\n",
    "    \n",
    "        for i in range(n + 1):\n",
    "            if i == 0:\n",
    "                tab.append(10)\n",
    "            else:\n",
    "                tab.append(f(tab[i - 1]))\n",
    "                \n",
    "        return tab.index(max(tab))\n",
    "    else:\n",
    "        raise TypeError(\"Le paramètre doit être un entier.\")         \n",
    "\n",
    "print(indice_max(0))\n",
    "print(indice_max(1))  \n",
    "print(indice_max(2))  \n",
    "print(indice_max(3))  \n",
    "print(indice_max(4))  \n",
    "print(indice_max(5)) "
   ]
  },
  {
   "cell_type": "markdown",
   "id": "05955f0d",
   "metadata": {},
   "source": [
    "### Exercice 3\n",
    "---"
   ]
  },
  {
   "cell_type": "markdown",
   "id": "01c59658",
   "metadata": {},
   "source": [
    "1 -"
   ]
  },
  {
   "cell_type": "code",
   "execution_count": 59,
   "id": "98e4f1f6",
   "metadata": {},
   "outputs": [
    {
     "name": "stdout",
     "output_type": "stream",
     "text": [
      "True\n",
      "False\n"
     ]
    }
   ],
   "source": [
    "def present(L: list, x: int) -> bool:\n",
    "    if type(L) == list and all(isinstance(i, int) for i in L) and isinstance(x, int):\n",
    "        for i in range(len(L)):\n",
    "            if L[i] == x:\n",
    "                return True\n",
    "        return False\n",
    "    else:\n",
    "        raise TypeError(\"Le premier paramètre doit être une liste d'entiers et le second un entier.\")\n",
    "\n",
    "print(present([1, 2, 3, 4, 5], 3))  # True\n",
    "print(present([1, 2, 3, 4, 5], 6))  # False\n",
    "# print(present([1, 2, \"3\", 4, \"5\"], 6))  # TypeError\n",
    "# print(present([1, 2, 3, 4, 5], \"6\"))  # TypeError"
   ]
  },
  {
   "cell_type": "markdown",
   "id": "e40c365d",
   "metadata": {},
   "source": [
    "2 -"
   ]
  },
  {
   "cell_type": "code",
   "execution_count": 63,
   "id": "1b693af5",
   "metadata": {},
   "outputs": [
    {
     "name": "stdout",
     "output_type": "stream",
     "text": [
      "3\n",
      "0\n"
     ]
    }
   ],
   "source": [
    "def compte_sup(L: list, x: int) -> int:\n",
    "    if type(L) == list and all(isinstance(i, int) for i in L) and isinstance(x, int):\n",
    "        cpt = 0\n",
    "        for i in range(len(L)):\n",
    "            if L[i] >= x:\n",
    "                cpt += 1\n",
    "        return cpt\n",
    "    else:\n",
    "        raise TypeError(\"Le premier paramètre doit être une liste d'entiers et le second un entier.\")\n",
    "\n",
    "print(compte_sup([1, 2, 3, 4, 5], 3))  # 3\n",
    "print(compte_sup([1, 2, 3, 4, 5], 6))  # 0\n",
    "# print(compte_sup([1, 2, \"3\", 4, \"5\"], 6))  # TypeError\n",
    "# print(compte_sup([1, 2, 3, 4, 5], \"6\"))  # TypeError"
   ]
  },
  {
   "cell_type": "code",
   "execution_count": 66,
   "id": "53487cdc",
   "metadata": {},
   "outputs": [
    {
     "name": "stdout",
     "output_type": "stream",
     "text": [
      "3\n",
      "0\n"
     ]
    }
   ],
   "source": [
    "def compte_inf(L: list, x: int) -> int:\n",
    "    if type(L) == list and all(isinstance(i, int) for i in L) and isinstance(x, int):\n",
    "        cpt = 0\n",
    "        for i in range(len(L)):\n",
    "            if L[i] <= x:\n",
    "                cpt += 1\n",
    "        return cpt\n",
    "    else:\n",
    "        raise TypeError(\"Le premier paramètre doit être une liste d'entiers et le second un entier.\")\n",
    "\n",
    "print(compte_inf([1, 2, 3, 4, 5], 3))  # 3\n",
    "print(compte_inf([1, 2, 3, 4, 5], 0))  # 0\n",
    "# print(compte_inf([1, 2, \"3\", 4, \"5\"], 6))  # TypeError\n",
    "# print(compte_inf([1, 2, 3, 4, 5], \"6\"))  # TypeError"
   ]
  },
  {
   "cell_type": "markdown",
   "id": "32260061",
   "metadata": {},
   "source": [
    "3 -"
   ]
  },
  {
   "cell_type": "code",
   "execution_count": 73,
   "id": "d600dfa7",
   "metadata": {},
   "outputs": [
    {
     "name": "stdout",
     "output_type": "stream",
     "text": [
      "3\n",
      "3.5\n"
     ]
    }
   ],
   "source": [
    "def mediane(L: list) -> float:\n",
    "    if type(L) == list and all(isinstance(i, int) for i in L):\n",
    "        if len(L) == 0:\n",
    "            return 0.0\n",
    "        else:\n",
    "            n = len(L)\n",
    "            if n % 2 == 1:\n",
    "                return L[n // 2]\n",
    "            else :\n",
    "                return (L[n // 2] + L[n // 2 - 1]) / 2.0\n",
    "    else:\n",
    "        raise TypeError(\"Le paramètre doit être une liste d'entiers.\")\n",
    "    \n",
    "print(mediane([1, 2, 3, 4, 5]))  # 3.0\n",
    "print(mediane([1, 2, 3, 4, 5, 6]))  # 3.5\n",
    "# print(mediane([1, 2, \"3\", 4, \"5\"]))  # TypeError\n"
   ]
  },
  {
   "cell_type": "markdown",
   "id": "5f2bfd80",
   "metadata": {},
   "source": [
    "4 -"
   ]
  },
  {
   "cell_type": "code",
   "execution_count": null,
   "id": "361c1af3",
   "metadata": {},
   "outputs": [
    {
     "name": "stdout",
     "output_type": "stream",
     "text": [
      "15.0\n",
      "16.0\n"
     ]
    }
   ],
   "source": [
    "def norme1(L: list) -> float:\n",
    "    if type(L) == list and all(isinstance(i, int) for i in L):\n",
    "        norme = 0.0\n",
    "        for i in range(len(L)):\n",
    "            norme += abs(L[i])\n",
    "        return norme\n",
    "    else:\n",
    "        raise TypeError(\"Le paramètre doit être une liste d'entiers.\")\n",
    "    \n",
    "print(norme1([1, -2, 3, -4, 5]))  # 15.0\n",
    "print(norme1([1, -2, 3, -4, 6]))  # 16.0"
   ]
  },
  {
   "cell_type": "code",
   "execution_count": null,
   "id": "f4580432",
   "metadata": {},
   "outputs": [
    {
     "name": "stdout",
     "output_type": "stream",
     "text": [
      "7.416198487095663\n",
      "8.12403840463596\n"
     ]
    }
   ],
   "source": [
    "def norme2(L: list) -> float:\n",
    "    if type(L) == list and all(isinstance(i, int) for i in L):\n",
    "        norme = 0.0\n",
    "        for i in range(len(L)):\n",
    "            norme += L[i] ** 2\n",
    "        return norme ** 0.5\n",
    "    else:\n",
    "        raise TypeError(\"Le paramètre doit être une liste d'entiers.\")\n",
    "    \n",
    "print(norme2([1, -2, 3, -4, 5]))  # 7.416198487095663\n",
    "print(norme2([1, -2, 3, -4, 6]))  # 8.12403840463596"
   ]
  }
 ],
 "metadata": {
  "kernelspec": {
   "display_name": "Python_avance",
   "language": "python",
   "name": "python3"
  },
  "language_info": {
   "codemirror_mode": {
    "name": "ipython",
    "version": 3
   },
   "file_extension": ".py",
   "mimetype": "text/x-python",
   "name": "python",
   "nbconvert_exporter": "python",
   "pygments_lexer": "ipython3",
   "version": "3.11.4"
  }
 },
 "nbformat": 4,
 "nbformat_minor": 5
}
