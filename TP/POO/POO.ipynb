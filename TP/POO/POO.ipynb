{
 "cells": [
  {
   "cell_type": "code",
   "execution_count": 1,
   "id": "07c19981",
   "metadata": {},
   "outputs": [],
   "source": [
    "class Personne:\n",
    "    def __init__(self, nom, prenom):\n",
    "        self.nom = nom\n",
    "        self.prenom = prenom\n",
    "\n",
    "    def se_presenter(self):\n",
    "        return f\"Bonjour, je m'appel {self.prenom} {self.nom}\""
   ]
  },
  {
   "cell_type": "code",
   "execution_count": null,
   "id": "e1d9cef1",
   "metadata": {},
   "outputs": [
    {
     "name": "stdout",
     "output_type": "stream",
     "text": [
      "Bonjour, je m'appel Jean Dupont\n"
     ]
    }
   ],
   "source": [
    "personne1 = Personne(\"Dupont\", \"Jean\")\n",
    "print(personne1.se_presenter())"
   ]
  }
 ],
 "metadata": {
  "kernelspec": {
   "display_name": "Python_avance",
   "language": "python",
   "name": "python3"
  },
  "language_info": {
   "codemirror_mode": {
    "name": "ipython",
    "version": 3
   },
   "file_extension": ".py",
   "mimetype": "text/x-python",
   "name": "python",
   "nbconvert_exporter": "python",
   "pygments_lexer": "ipython3",
   "version": "3.11.4"
  }
 },
 "nbformat": 4,
 "nbformat_minor": 5
}
