{
 "cells": [
  {
   "cell_type": "markdown",
   "metadata": {},
   "source": [
    "## String operations"
   ]
  },
  {
   "cell_type": "code",
   "execution_count": 56,
   "metadata": {},
   "outputs": [],
   "source": [
    "from __future__ import print_function\n",
    "import numpy as np"
   ]
  },
  {
   "cell_type": "code",
   "execution_count": 57,
   "metadata": {},
   "outputs": [
    {
     "data": {
      "text/plain": [
       "'2.2.4'"
      ]
     },
     "execution_count": 57,
     "metadata": {},
     "output_type": "execute_result"
    }
   ],
   "source": [
    "np.__version__"
   ]
  },
  {
   "cell_type": "markdown",
   "metadata": {},
   "source": [
    "Q1. Concatenate x1 and x2."
   ]
  },
  {
   "cell_type": "code",
   "execution_count": 58,
   "metadata": {},
   "outputs": [
    {
     "data": {
      "text/plain": [
       "array(['Hello world', 'Say something'], dtype='<U15')"
      ]
     },
     "execution_count": 58,
     "metadata": {},
     "output_type": "execute_result"
    }
   ],
   "source": [
    "x1 = np.array(['Hello', 'Say'])\n",
    "x2 = np.array([' world', ' something'])\n",
    "np.char.add(x1,x2)"
   ]
  },
  {
   "cell_type": "markdown",
   "metadata": {},
   "source": [
    "Q2. Repeat x three time element-wise."
   ]
  },
  {
   "cell_type": "code",
   "execution_count": 59,
   "metadata": {},
   "outputs": [
    {
     "data": {
      "text/plain": [
       "array(['Hello Hello Hello ', 'Say Say Say '], dtype='<U18')"
      ]
     },
     "execution_count": 59,
     "metadata": {},
     "output_type": "execute_result"
    }
   ],
   "source": [
    "x = np.array(['Hello ', 'Say '])\n",
    "np.char.multiply(x, 3)"
   ]
  },
  {
   "cell_type": "markdown",
   "metadata": {},
   "source": [
    "Q3-1. Capitalize the first letter of x element-wise.<br/>\n",
    "Q3-2. Lowercase x element-wise.<br/>\n",
    "Q3-3. Uppercase x element-wise.<br/>\n",
    "Q3-4. Swapcase x element-wise.<br/>\n",
    "Q3-5. Title-case x element-wise.<br/>"
   ]
  },
  {
   "cell_type": "code",
   "execution_count": 60,
   "metadata": {},
   "outputs": [
    {
     "name": "stdout",
     "output_type": "stream",
     "text": [
      "capitalized = ['Hello world' 'Say something']\n",
      "lowercase = ['hello world' 'say something']\n",
      "uppercase = ['HELLO WORLD' 'SAY SOMETHING']\n",
      "swapcase = ['HEllO WOrlD' 'sAY SoMETHING']\n",
      "title = ['HEllO WOrlD' 'sAY SoMETHING']\n"
     ]
    }
   ],
   "source": [
    "x = np.array(['heLLo woRLd', 'Say sOmething'])\n",
    "# CODE HERE\n",
    "\n",
    "x1 = np.char.capitalize(x)\n",
    "x2 = np.char.lower(x)\n",
    "x3 = np.char.upper(x)\n",
    "x4 = np.char.swapcase(x)\n",
    "x5 = np.char.title(x)\n",
    "\n",
    "print(\"capitalized =\", x1)\n",
    "print(\"lowercase =\", x2)\n",
    "print(\"uppercase =\", x3)\n",
    "print(\"swapcase =\", x4)\n",
    "print(\"title =\", x4)"
   ]
  },
  {
   "cell_type": "markdown",
   "metadata": {},
   "source": [
    "Q4. Make the length of each element 20 and the string centered / left-justified / right-justified with paddings of `_`."
   ]
  },
  {
   "cell_type": "code",
   "execution_count": 61,
   "metadata": {},
   "outputs": [
    {
     "name": "stdout",
     "output_type": "stream",
     "text": [
      "centered = ['____hello world_____' '___say something____']\n",
      "left-justified = ['hello world_________' 'say something_______']\n",
      "right-justified = ['_________hello world' '_______say something']\n"
     ]
    }
   ],
   "source": [
    "x = np.array(['hello world', 'say something'])\n",
    "# CODE HERE\n",
    "\n",
    "x1 = np.char.center(x, 20, '_')\n",
    "x2 = np.char.ljust(x, 20, '_')\n",
    "x3 = np.char.rjust(x, 20, '_')\n",
    "\n",
    "print(\"centered =\", x1)\n",
    "print(\"left-justified =\", x2)\n",
    "print(\"right-justified =\", x3)"
   ]
  },
  {
   "cell_type": "markdown",
   "metadata": {},
   "source": [
    "Q5. Encode x in cp500 and decode it again."
   ]
  },
  {
   "cell_type": "code",
   "execution_count": 62,
   "metadata": {},
   "outputs": [
    {
     "name": "stdout",
     "output_type": "stream",
     "text": [
      "encoded = [b'\\x88\\x85\\x93\\x93\\x96@\\xa6\\x96\\x99\\x93\\x84'\n",
      " b'\\xa2\\x81\\xa8@\\xa2\\x96\\x94\\x85\\xa3\\x88\\x89\\x95\\x87']\n",
      "decoded = ['hello world' 'say something']\n"
     ]
    }
   ],
   "source": [
    "x = np.array(['hello world', 'say something'])\n",
    "# CODE HERE\n",
    "\n",
    "x_encode = np.char.encode(x, 'cp500')\n",
    "x_decode = np.char.decode(x_encode, 'cp500')\n",
    "\n",
    "print(\"encoded =\", x_encode)\n",
    "print(\"decoded =\", x_decode)"
   ]
  },
  {
   "cell_type": "markdown",
   "metadata": {},
   "source": [
    "Q6. Insert a space between characters of x."
   ]
  },
  {
   "cell_type": "code",
   "execution_count": 63,
   "metadata": {},
   "outputs": [
    {
     "data": {
      "text/plain": [
       "array(['h e l l o   w o r l d', 's a y   s o m e t h i n g'], dtype='<U25')"
      ]
     },
     "execution_count": 63,
     "metadata": {},
     "output_type": "execute_result"
    }
   ],
   "source": [
    "x = np.array(['hello world', 'say something'])\n",
    "# CODE HERE\n",
    "\n",
    "np.char.join(' ', x)"
   ]
  },
  {
   "cell_type": "markdown",
   "metadata": {},
   "source": [
    "Q7-1. Remove the leading and trailing whitespaces of x element-wise.<br/>\n",
    "Q7-2. Remove the leading whitespaces of x element-wise.<br/>\n",
    "Q7-3. Remove the trailing whitespaces of x element-wise."
   ]
  },
  {
   "cell_type": "code",
   "execution_count": 64,
   "metadata": {},
   "outputs": [
    {
     "name": "stdout",
     "output_type": "stream",
     "text": [
      "stripped = ['hello world' 'say something']\n",
      "left stripped = ['hello world   ' 'say something\\n']\n",
      "right stripped = ['   hello world' '\\tsay something']\n"
     ]
    }
   ],
   "source": [
    "x = np.array(['   hello world   ', '\\tsay something\\n'])\n",
    "# CODE HERE\n",
    "\n",
    "x1 = np.char.strip(x)\n",
    "x2 = np.char.lstrip(x)\n",
    "x3 = np.char.rstrip(x)\n",
    "\n",
    "print(\"stripped =\", x1)\n",
    "print(\"left stripped =\", x2)\n",
    "print(\"right stripped =\", x3)"
   ]
  },
  {
   "cell_type": "markdown",
   "metadata": {},
   "source": [
    "Q8. Split the element of x with spaces."
   ]
  },
  {
   "cell_type": "code",
   "execution_count": 65,
   "metadata": {},
   "outputs": [
    {
     "data": {
      "text/plain": [
       "[['Hello', 'my', 'name', 'is', 'John']]"
      ]
     },
     "execution_count": 65,
     "metadata": {},
     "output_type": "execute_result"
    }
   ],
   "source": [
    "x = np.array(['Hello my name is John'])\n",
    "# CODE HERE\n",
    "\n",
    "np.char.split(x, ' ').tolist()"
   ]
  },
  {
   "cell_type": "markdown",
   "metadata": {},
   "source": [
    "Q9. Split the element of x to multiple lines."
   ]
  },
  {
   "cell_type": "code",
   "execution_count": 66,
   "metadata": {},
   "outputs": [
    {
     "data": {
      "text/plain": [
       "[['Hello', 'my name is John']]"
      ]
     },
     "execution_count": 66,
     "metadata": {},
     "output_type": "execute_result"
    }
   ],
   "source": [
    "x = np.array(['Hello\\nmy name is John'])\n",
    "# CODE HERE\n",
    "\n",
    "np.char.splitlines(x).tolist()"
   ]
  },
  {
   "cell_type": "markdown",
   "metadata": {},
   "source": [
    "Q10. Make x a numeric string of 4 digits with zeros on its left."
   ]
  },
  {
   "cell_type": "code",
   "execution_count": null,
   "metadata": {},
   "outputs": [
    {
     "name": "stdout",
     "output_type": "stream",
     "text": [
      "left fill = ['0034']\n",
      "right fill = ['3400']\n"
     ]
    }
   ],
   "source": [
    "x = np.array(['34'])\n",
    "# CODE HERE\n",
    "\n",
    "left_fill = str(np.char.zfill(x, 4)) # left fill with 0\n",
    "right_fill = str(np.char.ljust(x, 4, fillchar='0')) # right fill with 0\n",
    "\n",
    "print(\"left fill =\", left_fill)\n",
    "print(\"right fill =\", right_fill)"
   ]
  },
  {
   "cell_type": "markdown",
   "metadata": {},
   "source": [
    "Q11. Replace \"John\" with \"Jim\" in x."
   ]
  },
  {
   "cell_type": "code",
   "execution_count": 68,
   "metadata": {},
   "outputs": [
    {
     "data": {
      "text/plain": [
       "array(['Hello nmy name is Jim'], dtype='<U21')"
      ]
     },
     "execution_count": 68,
     "metadata": {},
     "output_type": "execute_result"
    }
   ],
   "source": [
    "x = np.array(['Hello nmy name is John'])\n",
    "# CODE HERE\n",
    "\n",
    "np.char.replace(x, \"John\", \"Jim\")"
   ]
  },
  {
   "cell_type": "markdown",
   "metadata": {},
   "source": [
    "## Comparison"
   ]
  },
  {
   "cell_type": "markdown",
   "metadata": {},
   "source": [
    "Q12. Return x1 == x2, element-wise."
   ]
  },
  {
   "cell_type": "code",
   "execution_count": 69,
   "metadata": {},
   "outputs": [
    {
     "data": {
      "text/plain": [
       "array([ True,  True,  True,  True, False])"
      ]
     },
     "execution_count": 69,
     "metadata": {},
     "output_type": "execute_result"
    }
   ],
   "source": [
    "x1 = np.array(['Hello', 'my', 'name', 'is', 'John'])\n",
    "x2 = np.array(['Hello', 'my', 'name', 'is', 'Jim'])\n",
    "# CODE HERE\n",
    "\n",
    "x1 == x2"
   ]
  },
  {
   "cell_type": "markdown",
   "metadata": {},
   "source": [
    "Q13. Return x1 != x2, element-wise."
   ]
  },
  {
   "cell_type": "code",
   "execution_count": 70,
   "metadata": {},
   "outputs": [
    {
     "data": {
      "text/plain": [
       "array([False, False, False, False,  True])"
      ]
     },
     "execution_count": 70,
     "metadata": {},
     "output_type": "execute_result"
    }
   ],
   "source": [
    "x1 = np.array(['Hello', 'my', 'name', 'is', 'John'])\n",
    "x2 = np.array(['Hello', 'my', 'name', 'is', 'Jim'])\n",
    "# CODE HERE\n",
    "\n",
    "x1 != x2"
   ]
  },
  {
   "cell_type": "markdown",
   "metadata": {},
   "source": [
    "## String information"
   ]
  },
  {
   "cell_type": "markdown",
   "metadata": {},
   "source": [
    "Q14. Count the number of \"l\" in x, element-wise."
   ]
  },
  {
   "cell_type": "code",
   "execution_count": 71,
   "metadata": {},
   "outputs": [
    {
     "data": {
      "text/plain": [
       "array([2, 0, 0, 0, 1])"
      ]
     },
     "execution_count": 71,
     "metadata": {},
     "output_type": "execute_result"
    }
   ],
   "source": [
    "x = np.array(['Hello', 'my', 'name', 'is', 'Lily'])\n",
    "# CODE HERE\n",
    "\n",
    "np.char.count(x, 'l')"
   ]
  },
  {
   "cell_type": "markdown",
   "metadata": {},
   "source": [
    "Q15. Count the lowest index of \"l\" in x, element-wise."
   ]
  },
  {
   "cell_type": "code",
   "execution_count": 72,
   "metadata": {},
   "outputs": [
    {
     "data": {
      "text/plain": [
       "array([ 2, -1, -1, -1,  2])"
      ]
     },
     "execution_count": 72,
     "metadata": {},
     "output_type": "execute_result"
    }
   ],
   "source": [
    "x = np.array(['Hello', 'my', 'name', 'is', 'Lily'])\n",
    "# CODE HERE\n",
    "\n",
    "np.char.find(x, 'l')"
   ]
  },
  {
   "cell_type": "markdown",
   "metadata": {},
   "source": [
    "Q16-1. Check if each element of x is composed of digits only.<br/>\n",
    "Q16-2. Check if each element of x is composed of lower case letters only.<br/>\n",
    "Q16-3. Check if each element of x is composed of upper case letters only."
   ]
  },
  {
   "cell_type": "code",
   "execution_count": 73,
   "metadata": {},
   "outputs": [
    {
     "name": "stdout",
     "output_type": "stream",
     "text": [
      "Digit only = [False False False  True False False]\n",
      "Lower cases only = [False False  True False  True  True]\n",
      "Upper cases only = [False  True False False False False]\n"
     ]
    }
   ],
   "source": [
    "x = np.array(['Hello', 'I', 'am', '20', 'years', 'old'])\n",
    "# CODE HERE\n",
    "\n",
    "x1 = np.char.isdigit(x)\n",
    "x2 = np.char.islower(x)\n",
    "x3 = np.char.isupper(x)\n",
    "\n",
    "print(\"Digit only =\", x1)\n",
    "print(\"Lower cases only =\", x2)\n",
    "print(\"Upper cases only =\", x3)"
   ]
  },
  {
   "cell_type": "markdown",
   "metadata": {},
   "source": [
    "Q17. Check if each element of x starts with \"hi\"."
   ]
  },
  {
   "cell_type": "code",
   "execution_count": 74,
   "metadata": {},
   "outputs": [
    {
     "data": {
      "text/plain": [
       "array([False,  True,  True,  True])"
      ]
     },
     "execution_count": 74,
     "metadata": {},
     "output_type": "execute_result"
    }
   ],
   "source": [
    "x = np.array(['he', 'his', 'him', 'his'])\n",
    "# CODE HERE\n",
    "\n",
    "np.char.startswith(x, 'hi')"
   ]
  }
 ],
 "metadata": {
  "anaconda-cloud": {},
  "kernelspec": {
   "display_name": "Python_avance",
   "language": "python",
   "name": "python3"
  },
  "language_info": {
   "codemirror_mode": {
    "name": "ipython",
    "version": 3
   },
   "file_extension": ".py",
   "mimetype": "text/x-python",
   "name": "python",
   "nbconvert_exporter": "python",
   "pygments_lexer": "ipython3",
   "version": "3.11.4"
  }
 },
 "nbformat": 4,
 "nbformat_minor": 1
}
