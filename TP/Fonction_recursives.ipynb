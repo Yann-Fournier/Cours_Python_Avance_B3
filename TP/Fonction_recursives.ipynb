{
 "cells": [
  {
   "cell_type": "markdown",
   "metadata": {},
   "source": [
    "### Exercice 1\n",
    "---"
   ]
  },
  {
   "cell_type": "code",
   "execution_count": 70,
   "metadata": {},
   "outputs": [
    {
     "name": "stdout",
     "output_type": "stream",
     "text": [
      "5\n",
      "20\n"
     ]
    }
   ],
   "source": [
    "chaine5 = \"hello\"\n",
    "chaine20 = \"chaine de caractères\"\n",
    "\n",
    "def len_chaine(chaine):\n",
    "    if chaine == \"\":\n",
    "        return 0\n",
    "    else:\n",
    "        return 1 + len_chaine(chaine[1:])\n",
    "\n",
    "print(len_chaine(chaine5))\n",
    "print(len_chaine(chaine20))"
   ]
  },
  {
   "cell_type": "markdown",
   "metadata": {},
   "source": [
    "### Exercice 2\n",
    "---"
   ]
  },
  {
   "cell_type": "code",
   "execution_count": 71,
   "metadata": {},
   "outputs": [],
   "source": [
    "L = [1, 2, 3, 4, 5]"
   ]
  },
  {
   "cell_type": "code",
   "execution_count": 72,
   "metadata": {},
   "outputs": [
    {
     "name": "stdout",
     "output_type": "stream",
     "text": [
      "15\n"
     ]
    }
   ],
   "source": [
    "def somme(L):\n",
    "    s= 0\n",
    "    for val in L:\n",
    "        s += val\n",
    "    return s\n",
    "\n",
    "print(somme(L))"
   ]
  },
  {
   "cell_type": "code",
   "execution_count": 73,
   "metadata": {},
   "outputs": [
    {
     "name": "stdout",
     "output_type": "stream",
     "text": [
      "15\n"
     ]
    }
   ],
   "source": [
    "def somme_rec(L):\n",
    "    if L == []:\n",
    "        return 0\n",
    "    else:\n",
    "        return L[0] + somme_rec(L[1:])\n",
    "    \n",
    "print(somme_rec(L))"
   ]
  },
  {
   "cell_type": "markdown",
   "metadata": {},
   "source": [
    "### Exercice 3\n",
    "---"
   ]
  },
  {
   "cell_type": "code",
   "execution_count": 74,
   "metadata": {},
   "outputs": [
    {
     "name": "stdout",
     "output_type": "stream",
     "text": [
      "1010\n",
      "100\n"
     ]
    }
   ],
   "source": [
    "def to_binaire(n):\n",
    "    if n == 0:\n",
    "        return \"0\"\n",
    "    elif n == 1:\n",
    "        return \"1\"\n",
    "    else:\n",
    "        return to_binaire(n // 2) + str(n % 2)\n",
    "    \n",
    "print(to_binaire(10))  # Affiche \"1010\"\n",
    "print(to_binaire(4))  # Affiche \"0\""
   ]
  },
  {
   "cell_type": "markdown",
   "metadata": {},
   "source": [
    "### Exercice 4\n",
    "---"
   ]
  },
  {
   "cell_type": "code",
   "execution_count": 75,
   "metadata": {},
   "outputs": [
    {
     "name": "stdout",
     "output_type": "stream",
     "text": [
      "True\n",
      "False\n"
     ]
    }
   ],
   "source": [
    "def paire(n):\n",
    "    if n == 0:\n",
    "        return True\n",
    "    else:\n",
    "        return impaire(n - 1)\n",
    "    \n",
    "def impaire(n):\n",
    "    if n == 0:\n",
    "        return False\n",
    "    else:\n",
    "        return paire(n - 1)\n",
    "    \n",
    "print(paire(4))  # Affiche True\n",
    "print(paire(5))  # Affiche False"
   ]
  },
  {
   "cell_type": "markdown",
   "metadata": {},
   "source": [
    "### Exercice 5\n",
    "---"
   ]
  },
  {
   "cell_type": "code",
   "execution_count": 76,
   "metadata": {},
   "outputs": [],
   "source": [
    "tab = [1, 2, 3, 4, 5]\n",
    "tab2 = [10,1, 2, 3, 4, 5, 6, 7, 8, 9, ]"
   ]
  },
  {
   "cell_type": "code",
   "execution_count": 77,
   "metadata": {},
   "outputs": [
    {
     "name": "stdout",
     "output_type": "stream",
     "text": [
      "5\n",
      "10\n"
     ]
    }
   ],
   "source": [
    "def max_tab(L):\n",
    "    if len(L) == 1:\n",
    "        return L[0]\n",
    "    else:\n",
    "        return max(L[0], max_tab(L[1:]))\n",
    "        \n",
    "print(max_tab(tab)) # 5\n",
    "print(max_tab(tab2)) # 10"
   ]
  },
  {
   "cell_type": "markdown",
   "metadata": {},
   "source": [
    "### Exercice 6\n",
    "---"
   ]
  },
  {
   "cell_type": "code",
   "execution_count": 78,
   "metadata": {},
   "outputs": [],
   "source": [
    "tableau = [1, 2, 3, 4, 5]\n",
    "tableau2 = [1, 3, 2, 4, 5]"
   ]
  },
  {
   "cell_type": "code",
   "execution_count": 79,
   "metadata": {},
   "outputs": [
    {
     "name": "stdout",
     "output_type": "stream",
     "text": [
      "True\n",
      "False\n"
     ]
    }
   ],
   "source": [
    "def est_croissant(L):\n",
    "    if len(L) == 2:\n",
    "        return L[0] <= L[1]\n",
    "    else:\n",
    "        return L[0] <= L[1] and est_croissant(L[1:])\n",
    "    \n",
    "print(est_croissant(tableau))  # True\n",
    "print(est_croissant(tableau2))  # False"
   ]
  },
  {
   "cell_type": "markdown",
   "metadata": {},
   "source": [
    "### Exercice 7\n",
    "---"
   ]
  },
  {
   "cell_type": "code",
   "execution_count": 80,
   "metadata": {},
   "outputs": [],
   "source": [
    "mot1 = \"bonjour\"\n",
    "mot2 = \"kayak\"\n",
    "mot3 = \"python\"\n",
    "mot4 = \"radar\""
   ]
  },
  {
   "cell_type": "code",
   "execution_count": 81,
   "metadata": {},
   "outputs": [
    {
     "name": "stdout",
     "output_type": "stream",
     "text": [
      "False\n",
      "True\n",
      "False\n",
      "True\n"
     ]
    }
   ],
   "source": [
    "def est_palindrome(L):\n",
    "    if len(L) == 1 or len(L) == 0:\n",
    "        return True\n",
    "    else:\n",
    "        return L[0] == L[-1] and est_palindrome(L[1:-1])\n",
    "    \n",
    "print(est_palindrome(mot1))  # False\n",
    "print(est_palindrome(mot2))  # True\n",
    "print(est_palindrome(mot3))  # False\n",
    "print(est_palindrome(mot4))  # True"
   ]
  },
  {
   "cell_type": "markdown",
   "metadata": {},
   "source": [
    "### Exercice 8\n",
    "---"
   ]
  },
  {
   "cell_type": "code",
   "execution_count": 82,
   "metadata": {},
   "outputs": [],
   "source": [
    "tableau1_8 = [0, 1, 1, 0, 1, 0, 1, 1, 1, 0]\n",
    "tableau2_8 = [0, 1, 0, 1, 1, 1, 0, 0, 0, 0, 1, 1, 0, 1, 0, 1, 1, 1, 0]"
   ]
  },
  {
   "cell_type": "code",
   "execution_count": 83,
   "metadata": {},
   "outputs": [
    {
     "name": "stdout",
     "output_type": "stream",
     "text": [
      "[0, 1, 1, 0, 1, 0, 1, 1, 1, 0]\n",
      "[0, 2, 2, 0, 3, 0, 4, 4, 4, 0]\n",
      "[0, 1, 0, 1, 1, 1, 0, 0, 0, 0, 1, 1, 0, 1, 0, 1, 1, 1, 0]\n",
      "[0, 2, 0, 3, 3, 3, 0, 0, 0, 0, 4, 4, 0, 5, 0, 6, 6, 6, 0]\n"
     ]
    }
   ],
   "source": [
    "def chercher_position(tab):\n",
    "    for i in range(len(tab)):\n",
    "        if tab[i] == 1:\n",
    "            return i\n",
    "    return -1\n",
    "\n",
    "def propager(tab, pos, x):\n",
    "    if pos < 0 or pos >= len(tab) or tab[pos] != 1:\n",
    "        return\n",
    "    tab[pos] = x\n",
    "    propager(tab, pos - 1, x)\n",
    "    propager(tab, pos + 1, x)\n",
    "\n",
    "def transformer_composantes(tab):\n",
    "    valeur = 2  # La première composante commence à 2\n",
    "    while True:\n",
    "        pos = chercher_position(tab)\n",
    "        if pos == -1:\n",
    "            break  # Plus de 1 à transformer\n",
    "        propager(tab, pos, valeur)\n",
    "        valeur += 1\n",
    "\n",
    "print(tableau1_8)\n",
    "transformer_composantes(tableau1_8)\n",
    "print(tableau1_8)  # [0, 2, 2, 0, 3, 0, 4, 4, 4, 0]\n",
    "\n",
    "print(tableau2_8)\n",
    "transformer_composantes(tableau2_8)\n",
    "print(tableau2_8)  # [0, 2, 0, 3, 3, 3, 0, 0, 0, 0, 4, 4, 0, 5, 0, 6, 6, 6, 0]\n"
   ]
  },
  {
   "cell_type": "markdown",
   "metadata": {},
   "source": [
    "### Exercice 9\n",
    "---"
   ]
  },
  {
   "cell_type": "code",
   "execution_count": 84,
   "metadata": {},
   "outputs": [
    {
     "name": "stdout",
     "output_type": "stream",
     "text": [
      "[0, 1, 1, 0, 0]\n",
      "[1, 1, 0, 0, 1]\n",
      "[0, 0, 0, 1, 1]\n",
      "[0, 1, 0, 0, 0]\n",
      "\n",
      "\n",
      "[0, 2, 2, 0, 0]\n",
      "[2, 2, 0, 0, 3]\n",
      "[0, 0, 0, 3, 3]\n",
      "[0, 4, 0, 0, 0]\n"
     ]
    }
   ],
   "source": [
    "# Même procédure que l'exo 8 mais en 3D\n",
    "\n",
    "def propager3D(matrice, i, j, T):\n",
    "    lignes = len(matrice)\n",
    "    colonnes = len(matrice[0])\n",
    "    if i < 0 or i >= lignes or j < 0 or j >= colonnes:\n",
    "        return\n",
    "    if matrice[i][j] != 1:\n",
    "        return\n",
    "    matrice[i][j] = T\n",
    "    propager3D(matrice, i + 1, j, T)\n",
    "    propager3D(matrice, i - 1, j, T)\n",
    "    propager3D(matrice, i, j + 1, T)\n",
    "    propager3D(matrice, i, j - 1, T)\n",
    "\n",
    "def etiqueter(matrice):\n",
    "    T = 2\n",
    "    lignes = len(matrice)\n",
    "    colonnes = len(matrice[0])\n",
    "    for i in range(lignes):\n",
    "        for j in range(colonnes):\n",
    "            if matrice[i][j] == 1:\n",
    "                propager3D(matrice, i, j, T)\n",
    "                T += 1\n",
    "\n",
    "# Exemple d'image binaire\n",
    "image = [\n",
    "    [0, 1, 1, 0, 0],\n",
    "    [1, 1, 0, 0, 1],\n",
    "    [0, 0, 0, 1, 1],\n",
    "    [0, 1, 0, 0, 0]\n",
    "]\n",
    "\n",
    "for ligne in image:\n",
    "    print(ligne)\n",
    "    \n",
    "print() # pour la lisibilité\n",
    "print()\n",
    "\n",
    "etiqueter(image)\n",
    "\n",
    "\n",
    "for ligne in image:\n",
    "    print(ligne)\n"
   ]
  }
 ],
 "metadata": {
  "kernelspec": {
   "display_name": "Python_avance",
   "language": "python",
   "name": "python3"
  },
  "language_info": {
   "codemirror_mode": {
    "name": "ipython",
    "version": 3
   },
   "file_extension": ".py",
   "mimetype": "text/x-python",
   "name": "python",
   "nbconvert_exporter": "python",
   "pygments_lexer": "ipython3",
   "version": "3.11.4"
  }
 },
 "nbformat": 4,
 "nbformat_minor": 2
}
